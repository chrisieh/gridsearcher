{
 "cells": [
  {
   "cell_type": "code",
   "execution_count": 1,
   "metadata": {
    "collapsed": true
   },
   "outputs": [],
   "source": [
    "import numpy as np\n",
    "import pandas as pd\n",
    "import xgboost as xgb\n",
    "import glob\n",
    "import json\n",
    "import gc\n",
    "\n",
    "pd.options.display.max_rows = 10"
   ]
  },
  {
   "cell_type": "markdown",
   "metadata": {},
   "source": [
    "## Implementation of metrics"
   ]
  },
  {
   "cell_type": "code",
   "execution_count": 2,
   "metadata": {
    "collapsed": true
   },
   "outputs": [],
   "source": [
    "from sklearn.metrics import roc_curve\n",
    "from scipy.interpolate import interp1d\n",
    "\n",
    "def rej_fixed_eff(truth, score, weight, efficiencies):\n",
    "    fpr, tpr, thr = roc_curve(truth, score, sample_weight=weight)\n",
    "    nonzero = (fpr != 0)\n",
    "    eff = tpr[nonzero]\n",
    "    rej = 1.0 / fpr[nonzero]\n",
    "    \n",
    "    interpol = interp1d(eff, rej, copy=False)\n",
    "    return interpol(efficiencies)                    "
   ]
  },
  {
   "cell_type": "code",
   "execution_count": 3,
   "metadata": {
    "collapsed": true
   },
   "outputs": [],
   "source": [
    "tid_1pvars = [\"TauJets.centFrac\", \"TauJets.etOverPtLeadTrk\",\n",
    "              \"TauJets.innerTrkAvgDist\", \"TauJets.absipSigLeadTrk\",\n",
    "              \"TauJets.SumPtTrkFrac\", \"TauJets.ChPiEMEOverCaloEME\",\n",
    "              \"TauJets.EMPOverTrkSysP\", \"TauJets.ptRatioEflowApprox\",\n",
    "              \"TauJets.mEflowApprox\"]"
   ]
  },
  {
   "cell_type": "markdown",
   "metadata": {},
   "source": [
    "## Define analysis"
   ]
  },
  {
   "cell_type": "code",
   "execution_count": 4,
   "metadata": {
    "collapsed": false
   },
   "outputs": [
    {
     "data": {
      "text/plain": [
       "162"
      ]
     },
     "execution_count": 4,
     "metadata": {},
     "output_type": "execute_result"
    }
   ],
   "source": [
    "train_sample = pd.read_hdf(\"samples/train.h5\", columns=tid_1pvars + [\"weight\", \"is_sig\"])\n",
    "\n",
    "train_weights = train_sample[\"weight\"].get_values()\n",
    "train_is_sig = train_sample[\"is_sig\"].get_values()\n",
    "dtrain = xgb.DMatrix(train_sample[tid_1pvars], label=train_sample[\"is_sig\"], weight=train_sample[\"weight\"])\n",
    "\n",
    "%xdel train_sample\n",
    "gc.collect()\n",
    "\n",
    "test_sample = pd.read_hdf(\"samples/test.h5\", columns=tid_1pvars + [\"weight\", \"is_sig\"])\n",
    "\n",
    "test_weights = test_sample[\"weight\"].get_values()\n",
    "test_is_sig = test_sample[\"is_sig\"].get_values()\n",
    "dtest = xgb.DMatrix(test_sample[tid_1pvars], label=test_sample[\"is_sig\"], weight=test_sample[\"weight\"])\n",
    "\n",
    "%xdel test_sample\n",
    "gc.collect()"
   ]
  },
  {
   "cell_type": "code",
   "execution_count": 5,
   "metadata": {
    "collapsed": false
   },
   "outputs": [],
   "source": [
    "def do_analysis(filename):\n",
    "    # Collection of metrics\n",
    "    ret = {}\n",
    "    \n",
    "    # Load stuff\n",
    "    with open(filename) as f:\n",
    "        model_desc = json.load(f)\n",
    "    \n",
    "    bst = xgb.Booster(model_file=\"models/{}.model\".format(model_desc[\"identifier\"]))\n",
    "    ret[\"best_iteration\"] = int(bst.attributes()[\"best_iteration\"])\n",
    "    \n",
    "    ntree = 1000 if ret[\"best_iteration\"] > 1000 else ret[\"best_iteration\"]\n",
    "    train_scores = bst.predict(dtrain, ntree_limit=ntree)\n",
    "    test_scores = bst.predict(dtest, ntree_limit=ntree)\n",
    "    \n",
    "    rej30, rej50, rej70 = rej_fixed_eff(test_is_sig, test_scores, test_weights, [0.3, 0.5, 0.7])\n",
    "    \n",
    "    ret[\"id\"] = model_desc[\"identifier\"]\n",
    "    ret[\"rej30\"] = rej30\n",
    "    ret[\"rej50\"] = rej50\n",
    "    ret[\"rej70\"] = rej70\n",
    "\n",
    "    \n",
    "    ret.update(model_desc[\"config\"])\n",
    "    \n",
    "    return ret"
   ]
  },
  {
   "cell_type": "markdown",
   "metadata": {},
   "source": [
    "## Select processed files"
   ]
  },
  {
   "cell_type": "code",
   "execution_count": 6,
   "metadata": {
    "collapsed": false
   },
   "outputs": [],
   "source": [
    "processed = []\n",
    "for model_desc in glob.glob(\"models/*.json\"):\n",
    "    with open(model_desc) as f:\n",
    "        desc = json.load(f)\n",
    "    if desc[\"processed\"]:\n",
    "        processed.append(model_desc)        "
   ]
  },
  {
   "cell_type": "markdown",
   "metadata": {},
   "source": [
    "## Loop over analysis"
   ]
  },
  {
   "cell_type": "code",
   "execution_count": null,
   "metadata": {
    "collapsed": true
   },
   "outputs": [],
   "source": [
    "rets = []"
   ]
  },
  {
   "cell_type": "code",
   "execution_count": null,
   "metadata": {
    "collapsed": false
   },
   "outputs": [],
   "source": [
    "for model_desc in processed:\n",
    "    ret = do_analysis(model_desc)\n",
    "    print(ret)\n",
    "    rets.append(ret)"
   ]
  },
  {
   "cell_type": "code",
   "execution_count": 18,
   "metadata": {
    "collapsed": false
   },
   "outputs": [],
   "source": [
    "x = pd.DataFrame(rets)"
   ]
  },
  {
   "cell_type": "code",
   "execution_count": 19,
   "metadata": {
    "collapsed": false
   },
   "outputs": [
    {
     "data": {
      "text/html": [
       "<div>\n",
       "<table border=\"1\" class=\"dataframe\">\n",
       "  <thead>\n",
       "    <tr style=\"text-align: right;\">\n",
       "      <th></th>\n",
       "      <th>alpha</th>\n",
       "      <th>best_iteration</th>\n",
       "      <th>colsample_bylevel</th>\n",
       "      <th>colsample_bytree</th>\n",
       "      <th>eta</th>\n",
       "      <th>gamma</th>\n",
       "      <th>id</th>\n",
       "      <th>lambda</th>\n",
       "      <th>max_delta_step</th>\n",
       "      <th>max_depth</th>\n",
       "      <th>min_child_weight</th>\n",
       "      <th>objective</th>\n",
       "      <th>rej30</th>\n",
       "      <th>rej50</th>\n",
       "      <th>rej70</th>\n",
       "      <th>scale_pos_weight</th>\n",
       "      <th>sketch_eps</th>\n",
       "      <th>subsample</th>\n",
       "      <th>tree_method</th>\n",
       "    </tr>\n",
       "  </thead>\n",
       "  <tbody>\n",
       "    <tr>\n",
       "      <th>2</th>\n",
       "      <td>0</td>\n",
       "      <td>8775</td>\n",
       "      <td>1</td>\n",
       "      <td>1</td>\n",
       "      <td>0.01</td>\n",
       "      <td>0</td>\n",
       "      <td>0002</td>\n",
       "      <td>1</td>\n",
       "      <td>0</td>\n",
       "      <td>8</td>\n",
       "      <td>2500.0</td>\n",
       "      <td>binary:logistic</td>\n",
       "      <td>351.085125</td>\n",
       "      <td>117.663566</td>\n",
       "      <td>44.810868</td>\n",
       "      <td>1</td>\n",
       "      <td>0.005</td>\n",
       "      <td>1</td>\n",
       "      <td>auto</td>\n",
       "    </tr>\n",
       "    <tr>\n",
       "      <th>1</th>\n",
       "      <td>0</td>\n",
       "      <td>9856</td>\n",
       "      <td>1</td>\n",
       "      <td>1</td>\n",
       "      <td>0.01</td>\n",
       "      <td>0</td>\n",
       "      <td>0001</td>\n",
       "      <td>1</td>\n",
       "      <td>0</td>\n",
       "      <td>6</td>\n",
       "      <td>2500.0</td>\n",
       "      <td>binary:logistic</td>\n",
       "      <td>330.235617</td>\n",
       "      <td>112.548047</td>\n",
       "      <td>43.386820</td>\n",
       "      <td>1</td>\n",
       "      <td>0.005</td>\n",
       "      <td>1</td>\n",
       "      <td>auto</td>\n",
       "    </tr>\n",
       "    <tr>\n",
       "      <th>0</th>\n",
       "      <td>0</td>\n",
       "      <td>9998</td>\n",
       "      <td>1</td>\n",
       "      <td>1</td>\n",
       "      <td>0.01</td>\n",
       "      <td>0</td>\n",
       "      <td>0000</td>\n",
       "      <td>1</td>\n",
       "      <td>0</td>\n",
       "      <td>4</td>\n",
       "      <td>2500.0</td>\n",
       "      <td>binary:logistic</td>\n",
       "      <td>303.019898</td>\n",
       "      <td>105.218275</td>\n",
       "      <td>41.181184</td>\n",
       "      <td>1</td>\n",
       "      <td>0.005</td>\n",
       "      <td>1</td>\n",
       "      <td>auto</td>\n",
       "    </tr>\n",
       "  </tbody>\n",
       "</table>\n",
       "</div>"
      ],
      "text/plain": [
       "   alpha  best_iteration  colsample_bylevel  colsample_bytree   eta  gamma  \\\n",
       "2      0            8775                  1                 1  0.01      0   \n",
       "1      0            9856                  1                 1  0.01      0   \n",
       "0      0            9998                  1                 1  0.01      0   \n",
       "\n",
       "     id  lambda  max_delta_step  max_depth  min_child_weight        objective  \\\n",
       "2  0002       1               0          8            2500.0  binary:logistic   \n",
       "1  0001       1               0          6            2500.0  binary:logistic   \n",
       "0  0000       1               0          4            2500.0  binary:logistic   \n",
       "\n",
       "        rej30       rej50      rej70  scale_pos_weight  sketch_eps  subsample  \\\n",
       "2  351.085125  117.663566  44.810868                 1       0.005          1   \n",
       "1  330.235617  112.548047  43.386820                 1       0.005          1   \n",
       "0  303.019898  105.218275  41.181184                 1       0.005          1   \n",
       "\n",
       "  tree_method  \n",
       "2        auto  \n",
       "1        auto  \n",
       "0        auto  "
      ]
     },
     "execution_count": 19,
     "metadata": {},
     "output_type": "execute_result"
    }
   ],
   "source": [
    "x.sort_values(\"rej50\", ascending=False)"
   ]
  },
  {
   "cell_type": "code",
   "execution_count": null,
   "metadata": {
    "collapsed": true
   },
   "outputs": [],
   "source": []
  }
 ],
 "metadata": {
  "kernelspec": {
   "display_name": "Python 2",
   "language": "python",
   "name": "python2"
  },
  "language_info": {
   "codemirror_mode": {
    "name": "ipython",
    "version": 2
   },
   "file_extension": ".py",
   "mimetype": "text/x-python",
   "name": "python",
   "nbconvert_exporter": "python",
   "pygments_lexer": "ipython2",
   "version": "2.7.9"
  }
 },
 "nbformat": 4,
 "nbformat_minor": 1
}
