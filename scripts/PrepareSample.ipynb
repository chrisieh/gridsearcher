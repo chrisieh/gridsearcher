{
 "cells": [
  {
   "cell_type": "markdown",
   "metadata": {},
   "source": [
    "# Prepare sample"
   ]
  },
  {
   "cell_type": "code",
   "execution_count": 1,
   "metadata": {
    "collapsed": false
   },
   "outputs": [
    {
     "data": {
      "application/javascript": [
       "require(['codemirror/mode/clike/clike'], function(Clike) { console.log('ROOTaaS - C++ CodeMirror module loaded'); });"
      ]
     },
     "metadata": {},
     "output_type": "display_data"
    },
    {
     "data": {
      "application/javascript": [
       "IPython.CodeCell.config_defaults.highlight_modes['magic_text/x-c++src'] = {'reg':[/^%%cpp/]};"
      ]
     },
     "metadata": {},
     "output_type": "display_data"
    },
    {
     "name": "stdout",
     "output_type": "stream",
     "text": [
      "Welcome to ROOTaaS 6.06/06\n"
     ]
    }
   ],
   "source": [
    "import os\n",
    "import numpy as np\n",
    "import pandas as pd\n",
    "from root_numpy import root2array"
   ]
  },
  {
   "cell_type": "markdown",
   "metadata": {},
   "source": [
    "## Setup sample paths"
   ]
  },
  {
   "cell_type": "code",
   "execution_count": 2,
   "metadata": {
    "collapsed": true
   },
   "outputs": [],
   "source": [
    "prefix = \"/Users/chris/THORr21/\"\n",
    "\n",
    "sig_train_root = prefix + \"sig1P_train.root\"\n",
    "sig_test_root = prefix + \"sig1P_test.root\"\n",
    "bkg_train_root = prefix + \"bkg1P_weight_train.root\"\n",
    "bkg_test_root = prefix + \"bkg1P_weight_test.root\""
   ]
  },
  {
   "cell_type": "code",
   "execution_count": 3,
   "metadata": {
    "collapsed": false
   },
   "outputs": [
    {
     "name": "stdout",
     "output_type": "stream",
     "text": [
      "[OK]: /Users/chris/THORr21/sig1P_train.root\n",
      "[OK]: /Users/chris/THORr21/sig1P_test.root\n",
      "[OK]: /Users/chris/THORr21/bkg1P_weight_train.root\n",
      "[OK]: /Users/chris/THORr21/bkg1P_weight_test.root\n"
     ]
    }
   ],
   "source": [
    "for file in [sig_train_root, sig_test_root, bkg_train_root, bkg_test_root]:\n",
    "    if os.path.exists(file):\n",
    "        print(\"[OK]: {}\".format(file))\n",
    "    else:\n",
    "        print(\"[MISSING]: {}\".format(file))"
   ]
  },
  {
   "cell_type": "markdown",
   "metadata": {},
   "source": [
    "## Merge samples"
   ]
  },
  {
   "cell_type": "code",
   "execution_count": 4,
   "metadata": {
    "collapsed": false
   },
   "outputs": [],
   "source": [
    "for s_root, b_root, label in [(sig_train_root, bkg_train_root, \"train\"), (sig_test_root, bkg_test_root, \"test\")]:\n",
    "    s = pd.DataFrame(root2array(s_root, treename=\"CollectionTree\"))\n",
    "    s[\"is_sig\"] = 1\n",
    "    b = pd.DataFrame(root2array(b_root, treename=\"CollectionTree\"))\n",
    "    b[\"is_sig\"] = 0\n",
    "    \n",
    "    # Probably not necessary\n",
    "    ws = s.weight.sum()\n",
    "    wb = b.weight.sum()\n",
    "\n",
    "    if ws > wb:\n",
    "        s.weight *= wb / ws\n",
    "    else:\n",
    "        b.weight *= ws / wb\n",
    "\n",
    "    df = pd.concat([s, b])\n",
    "    df.to_hdf(\"samples/{}.h5\".format(label), \"CollectionTree\", format=\"t\", complevel=9, complib=\"zlib\")"
   ]
  }
 ],
 "metadata": {
  "kernelspec": {
   "display_name": "Python 2",
   "language": "python",
   "name": "python2"
  },
  "language_info": {
   "codemirror_mode": {
    "name": "ipython",
    "version": 2
   },
   "file_extension": ".py",
   "mimetype": "text/x-python",
   "name": "python",
   "nbconvert_exporter": "python",
   "pygments_lexer": "ipython2",
   "version": "2.7.12"
  }
 },
 "nbformat": 4,
 "nbformat_minor": 1
}
