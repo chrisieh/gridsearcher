{
 "cells": [
  {
   "cell_type": "markdown",
   "metadata": {},
   "source": [
    "# GridSearcher"
   ]
  },
  {
   "cell_type": "code",
   "execution_count": 1,
   "metadata": {
    "collapsed": true
   },
   "outputs": [],
   "source": [
    "import glob\n",
    "import itertools\n",
    "import json\n",
    "import os"
   ]
  },
  {
   "cell_type": "code",
   "execution_count": 2,
   "metadata": {
    "collapsed": false
   },
   "outputs": [],
   "source": [
    "# Magic (builds list of option dictionaries)\n",
    "def get_options(filename):\n",
    "    with open(filename)as f:\n",
    "        config = json.load(f)\n",
    "    \n",
    "    # Build list of options for non-common options\n",
    "    options = {key: config[key] if isinstance(config[key], list) else [config[key]] for key in config}\n",
    "    keys, vals = options.keys(), options.values()\n",
    "    product = itertools.product(*vals)\n",
    "    options = [dict(zip(keys, x)) for x in product]\n",
    "    \n",
    "    return options"
   ]
  },
  {
   "cell_type": "markdown",
   "metadata": {},
   "source": [
    "## Add samples"
   ]
  },
  {
   "cell_type": "code",
   "execution_count": 3,
   "metadata": {
    "collapsed": true
   },
   "outputs": [],
   "source": [
    "train = \"samples/train.h5\"\n",
    "test = \"samples/test.h5\""
   ]
  },
  {
   "cell_type": "markdown",
   "metadata": {},
   "source": [
    "## Add grid configurations"
   ]
  },
  {
   "cell_type": "code",
   "execution_count": 4,
   "metadata": {
    "collapsed": false
   },
   "outputs": [],
   "source": [
    "options = []\n",
    "\n",
    "options.extend(get_options(\"config/xgb_template.json\"))\n",
    "#options.extend(get_options(\"config/mycustomgrid.json\"))"
   ]
  },
  {
   "cell_type": "markdown",
   "metadata": {},
   "source": [
    "For convenience"
   ]
  },
  {
   "cell_type": "code",
   "execution_count": 5,
   "metadata": {
    "collapsed": true
   },
   "outputs": [],
   "source": [
    "tid_1pvars = [\"TauJets.centFrac\", \"TauJets.etOverPtLeadTrk\",\n",
    "              \"TauJets.innerTrkAvgDist\", \"TauJets.absipSigLeadTrk\",\n",
    "              \"TauJets.SumPtTrkFrac\", \"TauJets.ChPiEMEOverCaloEME\",\n",
    "              \"TauJets.EMPOverTrkSysP\", \"TauJets.ptRatioEflowApprox\",\n",
    "              \"TauJets.mEflowApprox\"]\n",
    "\n",
    "tid_3pvars = [\"TauJets.centFrac\", \"TauJets.etOverPtLeadTrk\",\n",
    "              \"TauJets.innerTrkAvgDist\", \"TauJets.dRmax\",\n",
    "              \"TauJets.trFlightPathSig\", \"TauJets.massTrkSys\",\n",
    "              \"TauJets.ChPiEMEOverCaloEME\", \"TauJets.EMPOverTrkSysP\",\n",
    "              \"TauJets.ptRatioEflowApprox\", \"TauJets.mEflowApprox\"]"
   ]
  },
  {
   "cell_type": "markdown",
   "metadata": {},
   "source": [
    "Choose variables:"
   ]
  },
  {
   "cell_type": "code",
   "execution_count": 7,
   "metadata": {
    "collapsed": true
   },
   "outputs": [],
   "source": [
    "variables = tid_1pvars\n",
    "weight = \"weight\"\n",
    "classlabel = \"is_sig\""
   ]
  },
  {
   "cell_type": "markdown",
   "metadata": {},
   "source": [
    "## Save configurations"
   ]
  },
  {
   "cell_type": "code",
   "execution_count": 12,
   "metadata": {
    "collapsed": false
   },
   "outputs": [],
   "source": [
    "# Check for existing configs\n",
    "identifiers = []\n",
    "for filename in glob.glob(\"models/*.json\"):\n",
    "    with open(filename, \"r\") as f:\n",
    "        config = json.load(f)\n",
    "    identifiers.append(int(config[\"identifier\"]))\n",
    "\n",
    "id_start = 0 if len(identifiers) == 0 else max(identifiers) + 1\n",
    "\n",
    "# \n",
    "for i, opt in enumerate(options, id_start):\n",
    "    label = \"{:04}\".format(i)\n",
    "    \n",
    "    model_desc = {\"identifier\": \"{:04}\".format(i),\n",
    "                  \"train\": os.path.abspath(train),\n",
    "                  \"test\": os.path.abspath(test),\n",
    "                  \"variables\": variables,\n",
    "                  \"weight\": weight,\n",
    "                  \"classlabel\": classlabel,\n",
    "                  \"config\": opt,\n",
    "                  \"submitted\": False,\n",
    "                  \"processed\": False}\n",
    "    \n",
    "    with open(\"models/{}.json\".format(label), \"w\") as f:\n",
    "        json.dump(model_desc, f, indent=4)"
   ]
  },
  {
   "cell_type": "markdown",
   "metadata": {},
   "source": [
    "## Prepare submission"
   ]
  },
  {
   "cell_type": "code",
   "execution_count": 9,
   "metadata": {
    "collapsed": true
   },
   "outputs": [],
   "source": [
    "#PBS script for BAF\n",
    "with open(\"config/pbs_template.sh\", \"r\") as f:\n",
    "    pbs_script = f.read()"
   ]
  },
  {
   "cell_type": "code",
   "execution_count": 10,
   "metadata": {
    "collapsed": false
   },
   "outputs": [],
   "source": [
    "batch_settings = {\"name\": \"GridSearcher\", \"workdir\": os.path.abspath(\"models\"),\n",
    "                  \"req_mem\": \"4g\", \"req_file\": \"10g\", \"queue\": \"medium\",\n",
    "                  \"runner\": os.path.abspath(\"scripts/runner.py\")}"
   ]
  },
  {
   "cell_type": "code",
   "execution_count": 11,
   "metadata": {
    "collapsed": false
   },
   "outputs": [],
   "source": [
    "with open(\"scripts/pbs.sh\", \"w\") as f:\n",
    "    f.write(pbs_script.format(**batch_settings))"
   ]
  },
  {
   "cell_type": "code",
   "execution_count": null,
   "metadata": {
    "collapsed": true
   },
   "outputs": [],
   "source": []
  }
 ],
 "metadata": {
  "anaconda-cloud": {},
  "kernelspec": {
   "display_name": "Python 2",
   "language": "python",
   "name": "python2"
  },
  "language_info": {
   "codemirror_mode": {
    "name": "ipython",
    "version": 2
   },
   "file_extension": ".py",
   "mimetype": "text/x-python",
   "name": "python",
   "nbconvert_exporter": "python",
   "pygments_lexer": "ipython2",
   "version": "2.7.12"
  }
 },
 "nbformat": 4,
 "nbformat_minor": 1
}
